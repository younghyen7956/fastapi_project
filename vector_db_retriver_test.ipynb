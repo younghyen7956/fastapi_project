{
 "cells": [
  {
   "cell_type": "code",
   "execution_count": 2,
   "id": "687182cc-221f-434e-a359-7b07817c0cf7",
   "metadata": {},
   "outputs": [],
   "source": [
    "from typing import List, TypedDict\n",
    "from langchain import hub\n",
    "from langchain_core.documents import Document\n",
    "from langchain_huggingface import HuggingFacePipeline\n",
    "from transformers import AutoTokenizer, AutoModelForCausalLM, pipeline\n",
    "from langchain.embeddings import OpenAIEmbeddings\n",
    "from langchain_chroma import Chroma\n",
    "# from langgraph.graph import START, StateGraph\n",
    "from sentence_transformers import SentenceTransformer\n",
    "import torch\n",
    "\n",
    "# 0) Qwen-3-8B LLM 세팅\n",
    "# HuggingFace 파이프라인을 이용해 Qwen-3-8B 모델 로드\n",
    "# model_name = \"Qwen/Qwen3-8B\"\n",
    "# tokenizer = AutoTokenizer.from_pretrained(model_name)\n",
    "# model = AutoModelForCausalLM.from_pretrained(\n",
    "#     model_name,\n",
    "#     torch_dtype=torch.float16,\n",
    "#     device_map=\"auto\"\n",
    "# )\n",
    "# text_gen = pipeline(\n",
    "#     \"text-generation\",\n",
    "#     model=model,\n",
    "#     tokenizer=tokenizer,\n",
    "#     trust_remote_code=True,\n",
    "#     max_new_tokens=1024\n",
    "# )\n",
    "# # LangChain HuggingFacePipeline 래퍼 생성\n",
    "# llm = HuggingFacePipeline(pipeline=text_gen)\n",
    "\n",
    "# # 1) VectorStore 세팅\n",
    "# class MyEmbeddings:\n",
    "#     def __init__(self, model):\n",
    "#         self.model = model\n",
    "\n",
    "#     def embed_documents(self, texts: List[str]) -> List[List[float]]:\n",
    "#         return self.model.encode(texts, convert_to_numpy=True).tolist()\n",
    "\n",
    "#     def embed_query(self, text: str) -> List[float]:\n",
    "#         # for a single query you can still use encode\n",
    "#         return self.model.encode([text], convert_to_numpy=True)[0].tolist()\n",
    "\n",
    "# from sentence_transformers import SentenceTransformer\n",
    "# embed_model = SentenceTransformer(\"dragonkue/snowflake-arctic-embed-l-v2.0-ko\")\n",
    "# embeddings = MyEmbeddings(embed_model)\n",
    "# vectordb = Chroma(persist_directory=\"../chroma_db\", embedding_function=embeddings,collection_name=\"construction\")"
   ]
  },
  {
   "cell_type": "code",
   "execution_count": 3,
   "id": "25898b01-1beb-4bb7-8229-7fa8dc9693b1",
   "metadata": {},
   "outputs": [
    {
     "name": "stdout",
     "output_type": "stream",
     "text": [
      "=== 검색 결과 ===\n",
      "1. [unknown] 램프 경사 레벨 확인 +36레벨에서 +40레벨로 비상차량 이동시 +39에서 +40 경사가 급해보이므로 경사 레벨 확인 필요(또는 균등 배분) 램프 길이 1,000 → 1,300 경사구배 1/10 → 1/13 완화하였음 비상차량동선 경사 구배에 문제 없도록 수정됨 검증의견에 대한 답변 작성시 관련 근거(LH관련지침, 관련법, 민간사례, 관련 지자체 협의여부 ...\n",
      "2. [unknown] 램프바닥 방수마감 표기 누락 램프바닥 방수마감 표기 누락 램프 바닥 방수 마감 표기    ...\n",
      "3. [unknown] 지하주차장 램프 진입구 외부방향으로 역구배 미반영 (체크리스트 A35) 램프 진입구 외부구배 1/10 미반영  역구배 구간 추가 표기 역구배 표시 또는 기울기 표기 바람   역구배 표시 또는 기울기 표기 바람...\n"
     ]
    }
   ],
   "source": [
    "from typing import List, TypedDict\n",
    "from langchain import hub\n",
    "from langchain_core.documents import Document\n",
    "from langchain_huggingface import HuggingFacePipeline\n",
    "from transformers import AutoTokenizer, AutoModelForCausalLM, pipeline\n",
    "from langchain.embeddings import OpenAIEmbeddings\n",
    "from langchain_chroma import Chroma\n",
    "# from langgraph.graph import START, StateGraph\n",
    "from sentence_transformers import SentenceTransformer\n",
    "import torch\n",
    "\n",
    "class MyEmbeddings:\n",
    "    def __init__(self, model):\n",
    "        self.model = model\n",
    "\n",
    "    def embed_documents(self, texts: List[str]) -> List[List[float]]:\n",
    "        return self.model.encode(texts, convert_to_numpy=True).tolist()\n",
    "\n",
    "    def embed_query(self, text: str) -> List[float]:\n",
    "        # for a single query you can still use encode\n",
    "        return self.model.encode([text], convert_to_numpy=True)[0].tolist()\n",
    "\n",
    "from sentence_transformers import SentenceTransformer\n",
    "embed_model = SentenceTransformer(\"dragonkue/snowflake-arctic-embed-l-v2.0-ko\")\n",
    "embeddings = MyEmbeddings(embed_model)\n",
    "vectordb = Chroma(persist_directory=\"./chroma_db\", embedding_function=embeddings,collection_name=\"construction\")\n",
    "\n",
    "test_query = \"램프 경사\"\n",
    "    # k=3개 문서 검색\n",
    "retrieved_docs = vectordb.similarity_search(test_query, k=3)\n",
    "\n",
    "print(\"=== 검색 결과 ===\")\n",
    "if not retrieved_docs:\n",
    "    print(\"문서가 없습니다. 데이터 경로와 임베딩된 문서를 확인하세요.\")\n",
    "else:\n",
    "    for idx, doc in enumerate(retrieved_docs, start=1):\n",
    "        src = doc.metadata.get(\"source\", \"unknown\")\n",
    "        snippet = doc.page_content.replace(\"\\n\", \" \")[:200]\n",
    "        print(f\"{idx}. [{src}] {snippet}...\")"
   ]
  },
  {
   "cell_type": "code",
   "execution_count": null,
   "id": "5778ea84-221e-4fe7-8b95-70cf42e14b4d",
   "metadata": {},
   "outputs": [],
   "source": []
  }
 ],
 "metadata": {
  "kernelspec": {
   "display_name": "Python (image-search)",
   "language": "python",
   "name": "image-search-env"
  },
  "language_info": {
   "codemirror_mode": {
    "name": "ipython",
    "version": 3
   },
   "file_extension": ".py",
   "mimetype": "text/x-python",
   "name": "python",
   "nbconvert_exporter": "python",
   "pygments_lexer": "ipython3",
   "version": "3.10.11"
  }
 },
 "nbformat": 4,
 "nbformat_minor": 5
}
